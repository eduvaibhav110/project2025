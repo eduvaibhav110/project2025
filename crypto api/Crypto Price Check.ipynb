{
 "cells": [
  {
   "cell_type": "code",
   "execution_count": 2,
   "id": "98757334-1f79-45a2-947b-5a118007ffff",
   "metadata": {},
   "outputs": [
    {
     "name": "stdout",
     "output_type": "stream",
     "text": [
      "78,778.129\n"
     ]
    }
   ],
   "source": [
    "import requests\n",
    "\n",
    "def get_crypto_price(crypto):\n",
    "    url = f\"https://api.coindesk.com/v1/bpi/currentprice/{crypto}.json\"\n",
    "    response = requests.get(url)\n",
    "    data = response.json()\n",
    "    return data['bpi']['USD']['rate']\n",
    "\n",
    "print(get_crypto_price('BTC'))"
   ]
  },
  {
   "cell_type": "code",
   "execution_count": 8,
   "id": "9edf3385-b545-4cb2-a8c5-70515cff1c9f",
   "metadata": {},
   "outputs": [
    {
     "ename": "KeyError",
     "evalue": "'bpi'",
     "output_type": "error",
     "traceback": [
      "\u001b[0;31m---------------------------------------------------------------------------\u001b[0m",
      "\u001b[0;31mKeyError\u001b[0m                                  Traceback (most recent call last)",
      "Cell \u001b[0;32mIn[8], line 1\u001b[0m\n\u001b[0;32m----> 1\u001b[0m \u001b[38;5;28mprint\u001b[39m(get_crypto_price(\u001b[38;5;124m'\u001b[39m\u001b[38;5;124mDOGE\u001b[39m\u001b[38;5;124m'\u001b[39m))\n",
      "Cell \u001b[0;32mIn[2], line 7\u001b[0m, in \u001b[0;36mget_crypto_price\u001b[0;34m(crypto)\u001b[0m\n\u001b[1;32m      5\u001b[0m response \u001b[38;5;241m=\u001b[39m requests\u001b[38;5;241m.\u001b[39mget(url)\n\u001b[1;32m      6\u001b[0m data \u001b[38;5;241m=\u001b[39m response\u001b[38;5;241m.\u001b[39mjson()\n\u001b[0;32m----> 7\u001b[0m \u001b[38;5;28;01mreturn\u001b[39;00m data[\u001b[38;5;124m'\u001b[39m\u001b[38;5;124mbpi\u001b[39m\u001b[38;5;124m'\u001b[39m][\u001b[38;5;124m'\u001b[39m\u001b[38;5;124mUSD\u001b[39m\u001b[38;5;124m'\u001b[39m][\u001b[38;5;124m'\u001b[39m\u001b[38;5;124mrate\u001b[39m\u001b[38;5;124m'\u001b[39m]\n",
      "\u001b[0;31mKeyError\u001b[0m: 'bpi'"
     ]
    }
   ],
   "source": [
    "print(get_crypto_price('DOGE'))"
   ]
  },
  {
   "cell_type": "code",
   "execution_count": null,
   "id": "0cfdc50b-a68b-431e-aa8e-f17467353839",
   "metadata": {},
   "outputs": [],
   "source": []
  }
 ],
 "metadata": {
  "kernelspec": {
   "display_name": "Python 3 (ipykernel)",
   "language": "python",
   "name": "python3"
  },
  "language_info": {
   "codemirror_mode": {
    "name": "ipython",
    "version": 3
   },
   "file_extension": ".py",
   "mimetype": "text/x-python",
   "name": "python",
   "nbconvert_exporter": "python",
   "pygments_lexer": "ipython3",
   "version": "3.12.4"
  }
 },
 "nbformat": 4,
 "nbformat_minor": 5
}
